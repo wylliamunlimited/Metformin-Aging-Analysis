{
 "cells": [
  {
   "cell_type": "markdown",
   "id": "58f1702f-6c1f-4163-9a0b-b203b2f0e505",
   "metadata": {},
   "source": [
    "# Pearson Correlation Analysis on Human Phenotype and Human Expression\n",
    "## _Author(s): Wai Yuen (Wylliam) Cheng_"
   ]
  },
  {
   "cell_type": "code",
   "execution_count": null,
   "id": "371e29e1-4f27-4b2a-b038-dbc15f1793d7",
   "metadata": {},
   "outputs": [],
   "source": []
  }
 ],
 "metadata": {
  "kernelspec": {
   "display_name": "Python 3 (ipykernel)",
   "language": "python",
   "name": "python3"
  },
  "language_info": {
   "codemirror_mode": {
    "name": "ipython",
    "version": 3
   },
   "file_extension": ".py",
   "mimetype": "text/x-python",
   "name": "python",
   "nbconvert_exporter": "python",
   "pygments_lexer": "ipython3",
   "version": "3.10.12"
  }
 },
 "nbformat": 4,
 "nbformat_minor": 5
}
